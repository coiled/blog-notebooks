{
 "cells": [
  {
   "cell_type": "markdown",
   "metadata": {},
   "source": [
    "# Distirbuted Hyperparameter Optimization with Dask\n",
    "\n",
    "This is the accompanying notebook to the blog post [No More Coffee Breaks - Faster Hyperparameter Tuning in the Cloud](https://coiled.io/blog/faster-hyperparameter-tuning-cloud)."
   ]
  },
  {
   "cell_type": "markdown",
   "metadata": {},
   "source": [
    "### Load data "
   ]
  },
  {
   "cell_type": "code",
   "execution_count": null,
   "metadata": {},
   "outputs": [],
   "source": [
    "import numpy as np\n",
    "import pandas as pd\n",
    "\n",
    "wine = pd.read_csv(\"https://archive.ics.uci.edu/ml/machine-learning-databases/wine-quality/winequality-white.csv\", delimiter=\";\")\n",
    "\n",
    "X, y = wine.iloc[:, :-1], wine[\"quality\"]"
   ]
  },
  {
   "cell_type": "code",
   "execution_count": null,
   "metadata": {},
   "outputs": [],
   "source": [
    "wine.shape"
   ]
  },
  {
   "cell_type": "markdown",
   "metadata": {},
   "source": [
    "### 5-fold cross-validated XGBoost model"
   ]
  },
  {
   "cell_type": "code",
   "execution_count": null,
   "metadata": {},
   "outputs": [],
   "source": [
    "from xgboost.sklearn import XGBRegressor\n",
    "from sklearn.model_selection import cross_val_score, GridSearchCV\n",
    "\n",
    "estimator = XGBRegressor(objective=\"reg:squarederror\")\n",
    "-cross_val_score(estimator, X, y, cv=5, scoring=\"neg_mean_absolute_error\").mean()"
   ]
  },
  {
   "cell_type": "markdown",
   "metadata": {},
   "source": [
    "### Local GridSearchCV (client machine)"
   ]
  },
  {
   "cell_type": "code",
   "execution_count": null,
   "metadata": {},
   "outputs": [],
   "source": [
    "params = {\n",
    "    \"max_depth\": [3, 16],\n",
    "    \"min_child_weight\": [10, 30],\n",
    "    \"eta\": [0.1, 0.05],\n",
    "    \"grow_policy\": [\"depthwise\", \"lossguide\"],\n",
    "}"
   ]
  },
  {
   "cell_type": "code",
   "execution_count": null,
   "metadata": {},
   "outputs": [],
   "source": [
    "estimator = XGBRegressor(objective=\"reg:squarederror\")\n",
    "\n",
    "grid_search = GridSearchCV(\n",
    "    estimator=estimator,\n",
    "    param_grid=params,\n",
    "    scoring=\"neg_mean_absolute_error\",\n",
    "    n_jobs=-1,\n",
    "    cv=5,\n",
    "    verbose=True,\n",
    ")"
   ]
  },
  {
   "cell_type": "code",
   "execution_count": null,
   "metadata": {},
   "outputs": [],
   "source": [
    "%%time\n",
    "grid_search.fit(X, y)"
   ]
  },
  {
   "cell_type": "code",
   "execution_count": null,
   "metadata": {},
   "outputs": [],
   "source": [
    "grid_search.best_score_"
   ]
  },
  {
   "cell_type": "code",
   "execution_count": null,
   "metadata": {},
   "outputs": [],
   "source": [
    "grid_search.best_params_"
   ]
  },
  {
   "cell_type": "markdown",
   "metadata": {},
   "source": [
    "### GridSearchCV on a Dask `LocalCluster` (client machine)\n"
   ]
  },
  {
   "cell_type": "markdown",
   "metadata": {},
   "source": [
    "This is equivalen to running local `GridSearchCV` with `sklearn`, except it can be useful to prototype the flow before running it on another cluster with more resources.\n",
    "\n",
    "Feel free to skip this step and scale out to a bigger cluster!"
   ]
  },
  {
   "cell_type": "code",
   "execution_count": null,
   "metadata": {},
   "outputs": [],
   "source": [
    "# from dask_ml.model_selection import GridSearchCV\n",
    "\n",
    "# params = {\n",
    "#     \"max_depth\": [3, 6, 8, 16],\n",
    "#     \"min_child_weight\": [3, 5, 10, 20, 30],\n",
    "#     \"eta\": [0.3, 0.2, 0.1, 0.05, 0.01],\n",
    "#     \"colsample_bytree\": np.arange(0.7, 1.0, 0.1),\n",
    "#     \"sampling_method \": [\"uniform\", \"gradient_based\"],\n",
    "#     \"booster\": [\"gbtree\", \"dart\"],\n",
    "#     \"grow_policy\": [\"depthwise\", \"lossguide\"],\n",
    "# }\n",
    "\n",
    "# estimator = XGBRegressor(objective=\"reg:squarederror\")\n",
    "\n",
    "# grid_search = GridSearchCV(\n",
    "#     estimator=estimator,\n",
    "#     param_grid=params,\n",
    "#     scoring=\"neg_mean_absolute_error\",\n",
    "#     n_jobs=-1,\n",
    "#     cv=5,\n",
    "# )"
   ]
  },
  {
   "cell_type": "code",
   "execution_count": null,
   "metadata": {},
   "outputs": [],
   "source": [
    "# %%time\n",
    "# grid_search.fit(X, y)"
   ]
  },
  {
   "cell_type": "code",
   "execution_count": null,
   "metadata": {},
   "outputs": [],
   "source": [
    "# grid_search.best_score_"
   ]
  },
  {
   "cell_type": "code",
   "execution_count": null,
   "metadata": {},
   "outputs": [],
   "source": [
    "# grid_search.best_params_"
   ]
  },
  {
   "cell_type": "markdown",
   "metadata": {},
   "source": [
    "### GridSearchCV on a Dask cluster in the cloud - Coiled\n"
   ]
  },
  {
   "cell_type": "code",
   "execution_count": 2,
   "metadata": {},
   "outputs": [],
   "source": [
    "import coiled\n",
    "import joblib\n",
    "from dask.distributed import Client"
   ]
  },
  {
   "cell_type": "markdown",
   "metadata": {},
   "source": [
    "Set up a cluster of any size in 2 minutes. \n",
    "\n",
    "Go ahead and explore the configuration arguments for `coiled.Cluster()`!"
   ]
  },
  {
   "cell_type": "code",
   "execution_count": null,
   "metadata": {},
   "outputs": [],
   "source": [
    "coiled.Cluster??"
   ]
  },
  {
   "cell_type": "markdown",
   "metadata": {},
   "source": [
    "Get a cluster in the cloud"
   ]
  },
  {
   "cell_type": "code",
   "execution_count": null,
   "metadata": {},
   "outputs": [],
   "source": [
    "%%time\n",
    "cluster = coiled.Cluster(n_workers=24, software=\"optuna-xgboost\")\n",
    "client = Client(cluster)\n",
    "\n",
    "client"
   ]
  },
  {
   "cell_type": "code",
   "execution_count": null,
   "metadata": {},
   "outputs": [],
   "source": [
    "params = {\n",
    "    \"max_depth\": [3, 6, 8, 16],\n",
    "    \"min_child_weight\": [3, 5, 10, 20, 30],\n",
    "    \"eta\": [0.3, 0.2, 0.1, 0.05, 0.01],\n",
    "    \"colsample_bytree\": np.arange(0.7, 1.0, 0.1),\n",
    "    \"sampling_method \": [\"uniform\", \"gradient_based\"],\n",
    "    \"booster\": [\"gbtree\", \"dart\"],\n",
    "    \"grow_policy\": [\"depthwise\", \"lossguide\"],\n",
    "}"
   ]
  },
  {
   "cell_type": "markdown",
   "metadata": {},
   "source": [
    "#### 5 folds for each of 3200 candidates, totalling 16000 fits"
   ]
  },
  {
   "cell_type": "code",
   "execution_count": null,
   "metadata": {},
   "outputs": [],
   "source": [
    "estimator = XGBRegressor(objective=\"reg:squarederror\")\n",
    "\n",
    "grid_search = GridSearchCV(\n",
    "    estimator=estimator,\n",
    "    param_grid=params,\n",
    "    scoring=\"neg_mean_absolute_error\",\n",
    "    n_jobs=-1,\n",
    "    cv=5,\n",
    "    verbose=2,\n",
    ")"
   ]
  },
  {
   "cell_type": "markdown",
   "metadata": {},
   "source": [
    "`joblib`, the scikit-learn parallelization backend, will use our open cluster client connected to Coiled."
   ]
  },
  {
   "source": [
    "Make sure to launch the Dask Cluster dashboard, to see the tasks being worked on in real time!"
   ],
   "cell_type": "markdown",
   "metadata": {}
  },
  {
   "cell_type": "code",
   "execution_count": null,
   "metadata": {},
   "outputs": [],
   "source": [
    "cluster.dashboard_link"
   ]
  },
  {
   "cell_type": "code",
   "execution_count": null,
   "metadata": {},
   "outputs": [],
   "source": [
    "%%time\n",
    "with joblib.parallel_backend(\"dask\", scatter=[X, y]):\n",
    "    grid_search.fit(X, y)"
   ]
  },
  {
   "cell_type": "code",
   "execution_count": null,
   "metadata": {},
   "outputs": [],
   "source": [
    "grid_search.best_score_"
   ]
  },
  {
   "cell_type": "code",
   "execution_count": null,
   "metadata": {},
   "outputs": [],
   "source": [
    "grid_search.best_estimator_"
   ]
  },
  {
   "cell_type": "markdown",
   "metadata": {},
   "source": [
    "### Scale the cluster down\n",
    "\n",
    "For next steps, the required resources will be much lower.\n",
    "\n",
    "We can cut costs by scaling the cluster down right from this notebook:"
   ]
  },
  {
   "cell_type": "code",
   "execution_count": null,
   "metadata": {},
   "outputs": [],
   "source": [
    "cluster.scale(4) # target = 4 workers"
   ]
  },
  {
   "source": [
    "We can view the Cluster Dashboard to see workers disappearing and hourly cost coming down."
   ],
   "cell_type": "markdown",
   "metadata": {}
  },
  {
   "cell_type": "code",
   "execution_count": null,
   "metadata": {},
   "outputs": [],
   "source": [
    "cluster.dashboard_link"
   ]
  },
  {
   "cell_type": "markdown",
   "metadata": {},
   "source": [
    "## Optuna\n",
    "\n",
    "Bayesian optimization - accelerated search.\n",
    "\n",
    "Let's configure the objective function to suggest parameter values from the ranges we want to explore."
   ]
  },
  {
   "cell_type": "code",
   "execution_count": null,
   "metadata": {},
   "outputs": [],
   "source": [
    "def objective(trial):\n",
    "    params = {\n",
    "        \"max_depth\": trial.suggest_int(\"max_depth\", 3, 16),\n",
    "        \"min_child_weight\": trial.suggest_int(\"min_child_weight\", 3, 30),\n",
    "        \"eta\": trial.suggest_float(\"eta\", 1e-8, 1.0, log=True),\n",
    "        \"colsample_bytree\": trial.suggest_float(\"colsample_bytree\", 0.7, 1.0),\n",
    "        \"sampling_method \": trial.suggest_categorical(\n",
    "            \"sampling_method\", [\"uniform\", \"gradient_based\"]\n",
    "        ),\n",
    "        \"booster\": trial.suggest_categorical(\"booster\", [\"gbtree\", \"dart\"]),\n",
    "        \"grow_policy\": trial.suggest_categorical(\n",
    "            \"grow_policy\", [\"depthwise\", \"lossguide\"]\n",
    "        ),\n",
    "    }\n",
    "\n",
    "    wine = pd.read_csv(\"https://archive.ics.uci.edu/ml/machine-learning-databases/wine-quality/winequality-white.csv\", delimiter=\";\")\n",
    "    X, y = wine.iloc[:, :-1], wine[\"quality\"]\n",
    "\n",
    "    estimator = XGBRegressor(objective=\"reg:squarederror\", **params)\n",
    "    \n",
    "    score = cross_val_score(\n",
    "        estimator, X, y, cv=5, scoring=\"neg_mean_absolute_error\"\n",
    "    ).mean()\n",
    "    \n",
    "    return score"
   ]
  },
  {
   "cell_type": "code",
   "execution_count": null,
   "metadata": {},
   "outputs": [],
   "source": [
    "%%time\n",
    "\n",
    "import dask_optuna\n",
    "import joblib\n",
    "import optuna\n",
    "\n",
    "storage = dask_optuna.DaskStorage()\n",
    "\n",
    "study = optuna.create_study(direction=\"maximize\", storage=storage)\n",
    "with joblib.parallel_backend(\"dask\"):\n",
    "    study.optimize(objective, n_trials=100, n_jobs=-1)"
   ]
  },
  {
   "cell_type": "code",
   "execution_count": null,
   "metadata": {},
   "outputs": [],
   "source": [
    "study.best_value"
   ]
  },
  {
   "cell_type": "code",
   "execution_count": null,
   "metadata": {},
   "outputs": [],
   "source": [
    "study.best_trial"
   ]
  },
  {
   "cell_type": "code",
   "execution_count": null,
   "metadata": {},
   "outputs": [],
   "source": [
    "study.best_params"
   ]
  },
  {
   "cell_type": "code",
   "execution_count": null,
   "metadata": {},
   "outputs": [],
   "source": [
    "results = study.trials_dataframe()"
   ]
  },
  {
   "cell_type": "markdown",
   "metadata": {},
   "source": [
    "### Plot trial outcomes"
   ]
  },
  {
   "cell_type": "code",
   "execution_count": null,
   "metadata": {},
   "outputs": [],
   "source": [
    "import matplotlib.pyplot as plt"
   ]
  },
  {
   "cell_type": "code",
   "execution_count": 42,
   "metadata": {},
   "outputs": [
    {
     "data": {
      "text/plain": [
       "Text(0.5, 1.0, 'Mean Absolute Error over 100 Optimization Trials')"
      ]
     },
     "execution_count": 42,
     "metadata": {},
     "output_type": "execute_result"
    },
    {
     "data": {
      "image/png": "[encoded data removed]",
      "text/plain": [
       "<Figure size 864x576 with 1 Axes>"
      ]
     },
     "metadata": {
      "needs_background": "light"
     },
     "output_type": "display_data"
    }
   ],
   "source": [
    "fig, ax = plt.subplots(figsize=(12, 8))\n",
    "results.value.clip(lower=-1).plot.line()\n",
    "best_trial = results.value.idxmax()\n",
    "plt.scatter(best_trial, results.loc[best_trial].value, color='r', s=100)\n",
    "plt.ylabel('5-fold CV Mean Absolute Error')\n",
    "plt.xlabel('Optuna Trials')\n",
    "plt.title('Mean Absolute Error over 100 Optimization Trials')"
   ]
  },
  {
   "cell_type": "markdown",
   "metadata": {},
   "source": [
    "### Set down the cluster"
   ]
  },
  {
   "cell_type": "code",
   "execution_count": null,
   "metadata": {},
   "outputs": [],
   "source": [
    "cluster.close()"
   ]
  },
  {
   "cell_type": "markdown",
   "metadata": {},
   "source": [
    "### Dataset citation:\n",
    "\n",
    "> P. Cortez, A. Cerdeira, F. Almeida, T. Matos and J. Reis.  \n",
    "> Modeling wine preferences by data mining from physicochemical properties. In Decision Support Systems, Elsevier, 47(4):547-553, 2009."
   ]
  }
 ],
 "metadata": {
  "kernelspec": {
   "display_name": "Python 3",
   "language": "python",
   "name": "python3"
  },
  "language_info": {
   "codemirror_mode": {
    "name": "ipython",
    "version": 3
   },
   "file_extension": ".py",
   "mimetype": "text/x-python",
   "name": "python",
   "nbconvert_exporter": "python",
   "pygments_lexer": "ipython3",
   "version": "3.8.5"
  }
 },
 "nbformat": 4,
 "nbformat_minor": 4
}